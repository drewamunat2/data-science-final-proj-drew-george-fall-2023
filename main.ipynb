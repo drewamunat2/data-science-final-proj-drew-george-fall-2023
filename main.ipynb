{
 "cells": [
  {
   "cell_type": "markdown",
   "id": "5561d2a9-ce1f-4eb8-be29-1fd3d9213b9f",
   "metadata": {},
   "source": [
    "# George and Drew Final Project Gateway Data Science\n",
    "\n",
    "## Project #1\n",
    "\n",
    "### Prompt\n",
    "\n",
    "It is very useful to develop a system that categorizes a product based on the manufacturer’s description\n",
    "of the item. For example, Larabar produces a product called “Mini Chocolate Cherry Truffle Bar”. This\n",
    "item should be categorized as “snack”. In the dataset “Whole Foods Products Data” there are four files:\n",
    "wholefoodsorders.csv, wholefoodsorders2.csv, wholefoodsorders3.csv, wholefoodsorders4.csv\n",
    "The columns of interest are “Company”, “Product”, and “category”. The goal of this project is to develop\n",
    "a supervised learning method that predicts the category of the products.\n",
    "\n",
    "### Data Source\n",
    "\n",
    "https://www.kaggle.com/datasets/thedevastator/new-whole-foods-on-sale-product-data-collection"
   ]
  },
  {
   "cell_type": "markdown",
   "id": "d62b902f-1248-4471-90d4-292ea3dbd2b4",
   "metadata": {},
   "source": [
    "### Load the data"
   ]
  },
  {
   "cell_type": "code",
   "execution_count": null,
   "id": "f1731b90-30d2-484a-9be3-f32b6d7470d3",
   "metadata": {},
   "outputs": [],
   "source": [
    "frames = [pd.read_csv(f'wholefoodsorders{i}.csv') for i in range(1, 5)]\n",
    "data = pd.concat(frames)"
   ]
  }
 ],
 "metadata": {
  "kernelspec": {
   "display_name": "Python 3 (ipykernel)",
   "language": "python",
   "name": "python3"
  },
  "language_info": {
   "codemirror_mode": {
    "name": "ipython",
    "version": 3
   },
   "file_extension": ".py",
   "mimetype": "text/x-python",
   "name": "python",
   "nbconvert_exporter": "python",
   "pygments_lexer": "ipython3",
   "version": "3.10.0"
  }
 },
 "nbformat": 4,
 "nbformat_minor": 5
}
